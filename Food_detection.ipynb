{
  "nbformat": 4,
  "nbformat_minor": 0,
  "metadata": {
    "colab": {
      "private_outputs": true,
      "provenance": [],
      "authorship_tag": "ABX9TyO7eDh4Cw1POQbqufr4W24b",
      "include_colab_link": true
    },
    "kernelspec": {
      "name": "python3",
      "display_name": "Python 3"
    },
    "language_info": {
      "name": "python"
    }
  },
  "cells": [
    {
      "cell_type": "markdown",
      "metadata": {
        "id": "view-in-github",
        "colab_type": "text"
      },
      "source": [
        "<a href=\"https://colab.research.google.com/github/wizkers007/fooddetection/blob/main/Food_detection.ipynb\" target=\"_parent\"><img src=\"https://colab.research.google.com/assets/colab-badge.svg\" alt=\"Open In Colab\"/></a>"
      ]
    },
    {
      "cell_type": "code",
      "source": [
        "import numpy as np\n",
        "import pandas as pd\n",
        "from pathlib import Path\n",
        "import os.path\n",
        "import matplotlib.pyplot as plt\n",
        "import seaborn as sns\n",
        "from sklearn.model_selection import train_test_split\n",
        "import tensorflow as tf\n",
        "from sklearn.metrics import classification_report\n",
        "from google.colab import drive\n",
        "from tensorflow.keras.optimizers import Adam\n",
        "#from tensorflow.keras.mixed_precision import set_global_policy\n",
        "#set_global_policy('mixed_float16')  # Enables mixed precision training\n",
        "\n",
        "drive.mount('/content/drive')\n",
        "\n",
        "image_dir = Path('/content/drive/MyDrive/Images3')\n",
        "filepaths = list(image_dir.glob(r'**/*.jpg'))\n",
        "labels = list(map(lambda x: os.path.split(os.path.split(x)[0])[1], filepaths))\n",
        "filepaths = pd.Series(filepaths, name='Filepath').astype(str)\n",
        "labels = pd.Series(labels, name='Label')\n",
        "images = pd.concat([filepaths, labels], axis=1)\n",
        "category_samples = []\n",
        "for category in images['Label'].unique():\n",
        "    category_slice = images.query(\"Label == @category\")\n",
        "    sample_size = min(2000, len(category_slice))  # Ensure sample size is no larger than available items\n",
        "    category_samples.append(category_slice.sample(sample_size, random_state=1))\n",
        "\n",
        "image_df = pd.concat(category_samples, axis=0).sample(frac=1.0, random_state=1).reset_index(drop=True)\n",
        "image_df['Label'].value_counts()\n"
      ],
      "metadata": {
        "id": "_ALOiIml4yhs"
      },
      "execution_count": null,
      "outputs": []
    },
    {
      "cell_type": "code",
      "source": [
        "num_classes = image_df['Label'].nunique()\n",
        "print(num_classes)  # This should print 10"
      ],
      "metadata": {
        "id": "gmvTzvrcF7xn"
      },
      "execution_count": null,
      "outputs": []
    },
    {
      "cell_type": "markdown",
      "source": [],
      "metadata": {
        "id": "KkdZBpQ9ZHLV"
      }
    },
    {
      "cell_type": "code",
      "source": [
        "train_df, test_df = train_test_split(image_df, train_size=0.8, shuffle=True, random_state=42)\n",
        "#was train_size=0.7 earlier"
      ],
      "metadata": {
        "id": "f9x9isG0dqdw"
      },
      "execution_count": null,
      "outputs": []
    },
    {
      "cell_type": "code",
      "source": [
        "train_generator = tf.keras.preprocessing.image.ImageDataGenerator(\n",
        "preprocessing_function=tf.keras.applications.mobilenet_v2.preprocess_input,\n",
        "validation_split=0.25\n",
        ")\n",
        "#was validation_split= 0.2 earlier\n",
        "test_generator = tf.keras.preprocessing.image.ImageDataGenerator(\n",
        "preprocessing_function=tf.keras.applications.mobilenet_v2.preprocess_input\n",
        ")"
      ],
      "metadata": {
        "id": "UCTcPgLFdw0t"
      },
      "execution_count": null,
      "outputs": []
    },
    {
      "cell_type": "code",
      "source": [
        "unique_classes = image_df['Label'].unique().tolist()\n",
        "train_images = train_generator.flow_from_dataframe(\n",
        "    dataframe=train_df,\n",
        "    x_col='Filepath',\n",
        "    y_col='Label',\n",
        "    target_size=(224, 224),\n",
        "    color_mode='rgb',\n",
        "    class_mode='categorical',\n",
        "    batch_size=128,\n",
        "    shuffle=True,\n",
        "    seed=42,\n",
        "    subset='training',\n",
        "    classes=unique_classes  # Ensure consistent class order\n",
        ")\n",
        "val_images = train_generator.flow_from_dataframe(\n",
        "    dataframe=train_df,\n",
        "    x_col='Filepath',\n",
        "    y_col='Label',\n",
        "    target_size=(224, 224),\n",
        "    color_mode='rgb',\n",
        "    class_mode='categorical',\n",
        "    batch_size=128,\n",
        "    shuffle=True,\n",
        "    seed=42,\n",
        "    subset='validation',\n",
        "    classes=unique_classes  # Ensure consistent class order\n",
        ")\n",
        "test_images = test_generator.flow_from_dataframe(\n",
        "    dataframe=test_df,\n",
        "    x_col='Filepath',\n",
        "    y_col='Label',\n",
        "    target_size=(224, 224),\n",
        "    color_mode='rgb',\n",
        "    class_mode='categorical',\n",
        "    batch_size=128,\n",
        "    shuffle=False,\n",
        "    classes=unique_classes  # Ensure consistent class order\n",
        ")\n"
      ],
      "metadata": {
        "id": "CB5yYV5Zd0I3"
      },
      "execution_count": null,
      "outputs": []
    },
    {
      "cell_type": "code",
      "source": [
        "pretrained_model = tf.keras.applications.MobileNetV2(\n",
        "    input_shape=(224, 224, 3),\n",
        "    include_top=False,\n",
        "    weights='imagenet',\n",
        "    pooling='avg'\n",
        ")"
      ],
      "metadata": {
        "id": "4GG2yUVNd7F8"
      },
      "execution_count": null,
      "outputs": []
    },
    {
      "cell_type": "code",
      "source": [
        "# Freeze the pretrained model\n",
        "pretrained_model.trainable = False\n",
        "\n",
        "# Define the new model with 5 output classes\n",
        "inputs = pretrained_model.input\n",
        "x = tf.keras.layers.Dense(128, activation='relu')(pretrained_model.output)\n",
        "x = tf.keras.layers.Dense(128, activation='relu')(x)\n",
        "outputs = tf.keras.layers.Dense(5, activation='softmax')(x)  # Changed to 5 classes\n",
        "\n",
        "model = tf.keras.Model(inputs, outputs)\n",
        "\n",
        "# Print the model summary\n",
        "print(model.summary())\n"
      ],
      "metadata": {
        "id": "7NeqBa-DfISU"
      },
      "execution_count": null,
      "outputs": []
    },
    {
      "cell_type": "code",
      "source": [
        "# Compile the model\n",
        "model.compile(\n",
        "    optimizer='adam',\n",
        "    loss='categorical_crossentropy',  # Ensure labels are one-hot encoded\n",
        "    metrics=['accuracy']\n",
        ")\n",
        "\n",
        "# Train the model using train_images and validate with val_images\n",
        "history = model.fit(\n",
        "    train_images,  # No need for train_labels, it's included in train_images\n",
        "    validation_data=val_images,\n",
        "    epochs=20,\n",
        "    callbacks=[\n",
        "        tf.keras.callbacks.EarlyStopping(\n",
        "            monitor='val_loss',\n",
        "            patience=3,\n",
        "            restore_best_weights=True\n",
        "        )\n",
        "    ]\n",
        ")\n"
      ],
      "metadata": {
        "id": "zPsHS3ETfK-l"
      },
      "execution_count": null,
      "outputs": []
    },
    {
      "cell_type": "code",
      "source": [
        "results = model.evaluate(test_images, verbose=0)\n",
        "print(\"Test Accuracy: {:.2f}%\".format(results[1] * 100))\n",
        "\n"
      ],
      "metadata": {
        "id": "BEbMry8wfuw0"
      },
      "execution_count": null,
      "outputs": []
    }
  ]
}